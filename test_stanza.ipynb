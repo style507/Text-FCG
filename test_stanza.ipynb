{
 "cells": [
  {
   "cell_type": "code",
   "execution_count": 3,
   "metadata": {},
   "outputs": [],
   "source": [
    "import stanza"
   ]
  },
  {
   "cell_type": "code",
   "execution_count": 4,
   "metadata": {},
   "outputs": [
    {
     "name": "stderr",
     "output_type": "stream",
     "text": [
      "Downloading https://raw.githubusercontent.com/stanfordnlp/stanza-resources/master/resources_1.2.0.json: 128kB [00:00, 4.75MB/s]                    \n",
      "2021-06-04 17:11:36 INFO: Downloading default packages for language: en (English)...\n",
      "2021-06-04 17:11:37 INFO: File exists: C:\\Users\\Chuancey\\stanza_resources\\en\\default.zip.\n",
      "2021-06-04 17:11:40 INFO: Finished downloading models and saved to C:\\Users\\Chuancey\\stanza_resources.\n"
     ]
    }
   ],
   "source": [
    "stanza.download('en')"
   ]
  },
  {
   "cell_type": "code",
   "execution_count": 7,
   "metadata": {},
   "outputs": [
    {
     "name": "stderr",
     "output_type": "stream",
     "text": [
      "2021-06-04 17:12:16 WARNING: Can not find mwt: default from official model list. Ignoring it.\n",
      "2021-06-04 17:12:16 INFO: Loading these models for language: en (English):\n",
      "========================\n",
      "| Processor | Package  |\n",
      "------------------------\n",
      "| tokenize  | combined |\n",
      "| pos       | combined |\n",
      "| lemma     | combined |\n",
      "| depparse  | combined |\n",
      "========================\n",
      "\n",
      "2021-06-04 17:12:16 INFO: Use device: cpu\n",
      "2021-06-04 17:12:16 INFO: Loading: tokenize\n",
      "2021-06-04 17:12:16 INFO: Loading: pos\n",
      "2021-06-04 17:12:16 INFO: Loading: lemma\n",
      "2021-06-04 17:12:17 INFO: Loading: depparse\n",
      "2021-06-04 17:12:17 INFO: Done loading processors!\n"
     ]
    }
   ],
   "source": [
    "nlp = stanza.Pipeline(lang='en', processors='tokenize, mwt, pos, lemma, depparse', tokenize_no_ssplit=True)"
   ]
  },
  {
   "cell_type": "code",
   "execution_count": 8,
   "metadata": {},
   "outputs": [],
   "source": [
    "t = \"dome petroleum 's reaffirms dome mines stake for sale at right price spokesman 'says'\""
   ]
  },
  {
   "cell_type": "code",
   "execution_count": 9,
   "metadata": {},
   "outputs": [],
   "source": [
    "doc = nlp(t)"
   ]
  },
  {
   "cell_type": "code",
   "execution_count": 10,
   "metadata": {},
   "outputs": [
    {
     "name": "stdout",
     "output_type": "stream",
     "text": [
      "id: 1\tword: dome\thead id: 2\thead: petroleum\tdeprel: compound\n",
      "id: 2\tword: petroleum\thead id: 4\thead: reaffirms\tdeprel: nmod:poss\n",
      "id: 3\tword: 's\thead id: 2\thead: petroleum\tdeprel: case\n",
      "id: 4\tword: reaffirms\thead id: 7\thead: stake\tdeprel: compound\n",
      "id: 5\tword: dome\thead id: 7\thead: stake\tdeprel: compound\n",
      "id: 6\tword: mines\thead id: 7\thead: stake\tdeprel: compound\n",
      "id: 7\tword: stake\thead id: 15\thead: says\tdeprel: ccomp\n",
      "id: 8\tword: for\thead id: 9\thead: sale\tdeprel: case\n",
      "id: 9\tword: sale\thead id: 7\thead: stake\tdeprel: nmod\n",
      "id: 10\tword: at\thead id: 13\thead: spokesman\tdeprel: case\n",
      "id: 11\tword: right\thead id: 13\thead: spokesman\tdeprel: amod\n",
      "id: 12\tword: price\thead id: 13\thead: spokesman\tdeprel: compound\n",
      "id: 13\tword: spokesman\thead id: 9\thead: sale\tdeprel: nmod\n",
      "id: 14\tword: '\thead id: 13\thead: spokesman\tdeprel: punct\n",
      "id: 15\tword: says\thead id: 0\thead: root\tdeprel: root\n",
      "id: 16\tword: '\thead id: 15\thead: says\tdeprel: punct\n"
     ]
    }
   ],
   "source": [
    "print(*[f'id: {word.id}\\tword: {word.text}\\thead id: {word.head}\\thead: {sent.words[word.head-1].text if word.head > 0 else \"root\"}\\tdeprel: {word.deprel}' for sent in doc.sentences for word in sent.words], sep='\\n')"
   ]
  },
  {
   "cell_type": "code",
   "execution_count": 12,
   "metadata": {},
   "outputs": [
    {
     "name": "stdout",
     "output_type": "stream",
     "text": [
      "id: 1\tword: replication\thead id: 2\thead: patterns\tdeprel: compound\n",
      "id: 2\tword: patterns\thead id: 26\thead: studied\tdeprel: nsubj:pass\n",
      "id: 3\tword: of\thead id: 6\thead: x\tdeprel: case\n",
      "id: 4\tword: the\thead id: 6\thead: x\tdeprel: det\n",
      "id: 5\tword: fragile\thead id: 6\thead: x\tdeprel: amod\n",
      "id: 6\tword: x\thead id: 2\thead: patterns\tdeprel: nmod\n",
      "id: 7\tword: in\thead id: 10\thead: analysis\tdeprel: case\n",
      "id: 8\tword: heterozygous\thead id: 9\thead: carriers\tdeprel: amod\n",
      "id: 9\tword: carriers\thead id: 10\thead: analysis\tdeprel: compound\n",
      "id: 10\tword: analysis\thead id: 6\thead: x\tdeprel: nmod\n",
      "id: 11\tword: by\thead id: 15\thead: method\tdeprel: case\n",
      "id: 12\tword: a\thead id: 15\thead: method\tdeprel: det\n",
      "id: 13\tword: brdurd\thead id: 15\thead: method\tdeprel: amod\n",
      "id: 14\tword: antibody\thead id: 15\thead: method\tdeprel: compound\n",
      "id: 15\tword: method\thead id: 10\thead: analysis\tdeprel: nmod\n",
      "id: 16\tword: .\thead id: 2\thead: patterns\tdeprel: punct\n",
      "id: 17\tword: the\thead id: 19\thead: status\tdeprel: det\n",
      "id: 18\tword: replication\thead id: 19\thead: status\tdeprel: compound\n",
      "id: 19\tword: status\thead id: 26\thead: studied\tdeprel: nsubj\n",
      "id: 20\tword: of\thead id: 24\thead: chromosomes\tdeprel: case\n",
      "id: 21\tword: the\thead id: 24\thead: chromosomes\tdeprel: det\n",
      "id: 22\tword: fragile\thead id: 24\thead: chromosomes\tdeprel: amod\n",
      "id: 23\tword: x\thead id: 24\thead: chromosomes\tdeprel: compound\n",
      "id: 24\tword: chromosomes\thead id: 19\thead: status\tdeprel: nmod\n",
      "id: 25\tword: was\thead id: 26\thead: studied\tdeprel: aux:pass\n",
      "id: 26\tword: studied\thead id: 0\thead: root\tdeprel: root\n",
      "id: 27\tword: in\thead id: 30\thead: cultures\tdeprel: case\n",
      "id: 28\tword: short\thead id: 29\thead: term\tdeprel: amod\n",
      "id: 29\tword: term\thead id: 30\thead: cultures\tdeprel: compound\n",
      "id: 30\tword: cultures\thead id: 26\thead: studied\tdeprel: obl\n",
      "id: 31\tword: of\thead id: 32\thead: lymphocytes\tdeprel: case\n",
      "id: 32\tword: lymphocytes\thead id: 30\thead: cultures\tdeprel: nmod\n",
      "id: 33\tword: from\thead id: 37\thead: carriers\tdeprel: case\n",
      "id: 34\tword: six\thead id: 37\thead: carriers\tdeprel: nummod\n",
      "id: 35\tword: female\thead id: 37\thead: carriers\tdeprel: amod\n",
      "id: 36\tword: heterozygous\thead id: 37\thead: carriers\tdeprel: amod\n",
      "id: 37\tword: carriers\thead id: 32\thead: lymphocytes\tdeprel: nmod\n",
      "id: 38\tword: .\thead id: 26\thead: studied\tdeprel: punct\n",
      "id: 39\tword: the\thead id: 41\thead: x\tdeprel: det\n",
      "id: 40\tword: fragile\thead id: 41\thead: x\tdeprel: amod\n",
      "id: 41\tword: x\thead id: 43\thead: induced\tdeprel: nsubj:pass\n",
      "id: 42\tword: was\thead id: 43\thead: induced\tdeprel: aux:pass\n",
      "id: 43\tword: induced\thead id: 26\thead: studied\tdeprel: conj\n",
      "id: 44\tword: by\thead id: 45\thead: adding\tdeprel: mark\n",
      "id: 45\tword: adding\thead id: 43\thead: induced\tdeprel: advcl\n",
      "id: 46\tword: 0\thead id: 45\thead: adding\tdeprel: obj\n",
      "id: 47\tword: .\thead id: 50\thead: fluorodeoxyuridine\tdeprel: punct\n",
      "id: 48\tword: 1\thead id: 50\thead: fluorodeoxyuridine\tdeprel: nummod\n",
      "id: 49\tword: microm\thead id: 50\thead: fluorodeoxyuridine\tdeprel: compound\n",
      "id: 50\tword: fluorodeoxyuridine\thead id: 45\thead: adding\tdeprel: obj\n",
      "id: 51\tword: during\thead id: 55\thead: h\tdeprel: case\n",
      "id: 52\tword: the\thead id: 55\thead: h\tdeprel: det\n",
      "id: 53\tword: last\thead id: 55\thead: h\tdeprel: amod\n",
      "id: 54\tword: 24\thead id: 55\thead: h\tdeprel: nummod\n",
      "id: 55\tword: h\thead id: 43\thead: induced\tdeprel: obl\n",
      "id: 56\tword: of\thead id: 57\thead: culturing\tdeprel: case\n",
      "id: 57\tword: culturing\thead id: 55\thead: h\tdeprel: nmod\n",
      "id: 58\tword: .\thead id: 26\thead: studied\tdeprel: punct\n",
      "id: 59\tword: the\thead id: 61\thead: status\tdeprel: det\n",
      "id: 60\tword: replication\thead id: 61\thead: status\tdeprel: compound\n",
      "id: 61\tword: status\thead id: 67\thead: studied\tdeprel: nsubj:pass\n",
      "id: 62\tword: of\thead id: 65\thead: chromosomes\tdeprel: case\n",
      "id: 63\tword: the\thead id: 65\thead: chromosomes\tdeprel: det\n",
      "id: 64\tword: x\thead id: 65\thead: chromosomes\tdeprel: compound\n",
      "id: 65\tword: chromosomes\thead id: 61\thead: status\tdeprel: nmod\n",
      "id: 66\tword: was\thead id: 67\thead: studied\tdeprel: aux:pass\n",
      "id: 67\tword: studied\thead id: 2\thead: patterns\tdeprel: parataxis\n",
      "id: 68\tword: using\thead id: 67\thead: studied\tdeprel: advcl\n",
      "id: 69\tword: a\thead id: 70\thead: bromodeoxyuridine\tdeprel: det\n",
      "id: 70\tword: bromodeoxyuridine\thead id: 68\thead: using\tdeprel: obj\n",
      "id: 71\tword: (\thead id: 72\thead: brdurd\tdeprel: punct\n",
      "id: 72\tword: brdurd\thead id: 75\thead: method\tdeprel: appos\n",
      "id: 73\tword: )\thead id: 72\thead: brdurd\tdeprel: punct\n",
      "id: 74\tword: antibody\thead id: 75\thead: method\tdeprel: compound\n",
      "id: 75\tword: method\thead id: 70\thead: bromodeoxyuridine\tdeprel: conj\n",
      "id: 76\tword: .\thead id: 75\thead: method\tdeprel: punct\n",
      "id: 77\tword: brdurd\thead id: 79\thead: added\tdeprel: nsubj:pass\n",
      "id: 78\tword: was\thead id: 79\thead: added\tdeprel: aux:pass\n",
      "id: 79\tword: added\thead id: 75\thead: method\tdeprel: acl:relcl\n",
      "id: 80\tword: (\thead id: 81\thead: 1\tdeprel: punct\n",
      "id: 81\tword: 1\thead id: 79\thead: added\tdeprel: dep\n",
      "id: 82\tword: )\thead id: 81\thead: 1\tdeprel: punct\n",
      "id: 83\tword: at\thead id: 86\thead: concentration\tdeprel: case\n",
      "id: 84\tword: a\thead id: 86\thead: concentration\tdeprel: det\n",
      "id: 85\tword: final\thead id: 86\thead: concentration\tdeprel: amod\n",
      "id: 86\tword: concentration\thead id: 79\thead: added\tdeprel: obl\n",
      "id: 87\tword: of\thead id: 88\thead: 0\tdeprel: case\n",
      "id: 88\tword: 0\thead id: 86\thead: concentration\tdeprel: nmod\n",
      "id: 89\tword: .\thead id: 92\thead: ml\tdeprel: punct\n",
      "id: 90\tword: 2\thead id: 91\thead: micrograms\tdeprel: nummod\n",
      "id: 91\tword: micrograms\thead id: 92\thead: ml\tdeprel: compound\n",
      "id: 92\tword: ml\thead id: 86\thead: concentration\tdeprel: conj\n",
      "id: 93\tword: during\thead id: 97\thead: phase\tdeprel: case\n",
      "id: 94\tword: the\thead id: 95\thead: early\tdeprel: det\n",
      "id: 95\tword: early\thead id: 97\thead: phase\tdeprel: nmod:poss\n",
      "id: 96\tword: s\thead id: 95\thead: early\tdeprel: case\n",
      "id: 97\tword: phase\thead id: 92\thead: ml\tdeprel: nmod\n",
      "id: 98\tword: of\thead id: 100\thead: replication\tdeprel: case\n",
      "id: 99\tword: chromosome\thead id: 100\thead: replication\tdeprel: compound\n",
      "id: 100\tword: replication\thead id: 97\thead: phase\tdeprel: nmod\n",
      "id: 101\tword: (\thead id: 102\thead: 16\tdeprel: punct\n",
      "id: 102\tword: 16\thead id: 104\thead: h\tdeprel: nummod\n",
      "id: 103\tword: 10\thead id: 104\thead: h\tdeprel: nummod\n",
      "id: 104\tword: h\thead id: 100\thead: replication\tdeprel: dep\n",
      "id: 105\tword: before\thead id: 106\thead: harvest\tdeprel: case\n",
      "id: 106\tword: harvest\thead id: 104\thead: h\tdeprel: nmod\n",
      "id: 107\tword: )\thead id: 102\thead: 16\tdeprel: punct\n",
      "id: 108\tword: ,\thead id: 110\thead: 2\tdeprel: punct\n",
      "id: 109\tword: (\thead id: 110\thead: 2\tdeprel: punct\n",
      "id: 110\tword: 2\thead id: 117\thead: ml\tdeprel: nummod\n",
      "id: 111\tword: )\thead id: 110\thead: 2\tdeprel: punct\n",
      "id: 112\tword: at\thead id: 113\thead: 0\tdeprel: case\n",
      "id: 113\tword: 0\thead id: 110\thead: 2\tdeprel: nmod\n",
      "id: 114\tword: .\thead id: 117\thead: ml\tdeprel: punct\n",
      "id: 115\tword: 2\thead id: 117\thead: ml\tdeprel: nummod\n",
      "id: 116\tword: microgram\thead id: 117\thead: ml\tdeprel: compound\n",
      "id: 117\tword: ml\thead id: 6\thead: x\tdeprel: conj\n",
      "id: 118\tword: during\thead id: 122\thead: phase\tdeprel: case\n",
      "id: 119\tword: the\thead id: 120\thead: late\tdeprel: det\n",
      "id: 120\tword: late\thead id: 122\thead: phase\tdeprel: nmod:poss\n",
      "id: 121\tword: s\thead id: 120\thead: late\tdeprel: case\n",
      "id: 122\tword: phase\thead id: 117\thead: ml\tdeprel: nmod\n",
      "id: 123\tword: (\thead id: 127\thead: h\tdeprel: punct\n",
      "id: 124\tword: the\thead id: 127\thead: h\tdeprel: det\n",
      "id: 125\tword: last\thead id: 127\thead: h\tdeprel: amod\n",
      "id: 126\tword: 6\thead id: 127\thead: h\tdeprel: nummod\n",
      "id: 127\tword: h\thead id: 122\thead: phase\tdeprel: appos\n",
      "id: 128\tword: of\thead id: 129\thead: culturing\tdeprel: case\n",
      "id: 129\tword: culturing\thead id: 127\thead: h\tdeprel: nmod\n",
      "id: 130\tword: )\thead id: 127\thead: h\tdeprel: punct\n",
      "id: 131\tword: ,\thead id: 133\thead: 3\tdeprel: punct\n",
      "id: 132\tword: (\thead id: 133\thead: 3\tdeprel: punct\n",
      "id: 133\tword: 3\thead id: 122\thead: phase\tdeprel: dep\n",
      "id: 134\tword: )\thead id: 133\thead: 3\tdeprel: punct\n",
      "id: 135\tword: at\thead id: 138\thead: ml\tdeprel: case\n",
      "id: 136\tword: 20\thead id: 137\thead: micrograms\tdeprel: nummod\n",
      "id: 137\tword: micrograms\thead id: 138\thead: ml\tdeprel: compound\n",
      "id: 138\tword: ml\thead id: 133\thead: 3\tdeprel: nmod\n",
      "id: 139\tword: during\thead id: 143\thead: phase\tdeprel: case\n",
      "id: 140\tword: the\thead id: 141\thead: early\tdeprel: det\n",
      "id: 141\tword: early\thead id: 143\thead: phase\tdeprel: nmod:poss\n",
      "id: 142\tword: s\thead id: 141\thead: early\tdeprel: case\n",
      "id: 143\tword: phase\thead id: 138\thead: ml\tdeprel: nmod\n",
      "id: 144\tword: ,\thead id: 147\thead: 4\tdeprel: punct\n",
      "id: 145\tword: and\thead id: 147\thead: 4\tdeprel: cc\n",
      "id: 146\tword: (\thead id: 147\thead: 4\tdeprel: punct\n",
      "id: 147\tword: 4\thead id: 152\thead: ml\tdeprel: nummod\n",
      "id: 148\tword: )\thead id: 147\thead: 4\tdeprel: punct\n",
      "id: 149\tword: at\thead id: 152\thead: ml\tdeprel: case\n",
      "id: 150\tword: 20\thead id: 151\thead: micrograms\tdeprel: nummod\n",
      "id: 151\tword: micrograms\thead id: 152\thead: ml\tdeprel: compound\n",
      "id: 152\tword: ml\thead id: 2\thead: patterns\tdeprel: conj\n",
      "id: 153\tword: during\thead id: 157\thead: phase\tdeprel: case\n",
      "id: 154\tword: the\thead id: 155\thead: late\tdeprel: det\n",
      "id: 155\tword: late\thead id: 157\thead: phase\tdeprel: amod\n",
      "id: 156\tword: s\thead id: 155\thead: late\tdeprel: case\n",
      "id: 157\tword: phase\thead id: 152\thead: ml\tdeprel: nmod\n",
      "id: 158\tword: .\thead id: 152\thead: ml\tdeprel: punct\n",
      "id: 159\tword: brdurd\thead id: 152\thead: ml\tdeprel: nmod\n",
      "id: 160\tword: that\thead id: 162\thead: incorporated\tdeprel: nsubj:pass\n",
      "id: 161\tword: was\thead id: 162\thead: incorporated\tdeprel: aux:pass\n",
      "id: 162\tword: incorporated\thead id: 159\thead: brdurd\tdeprel: acl:relcl\n",
      "id: 163\tword: into\thead id: 165\thead: chromosomes\tdeprel: case\n",
      "id: 164\tword: replicating\thead id: 165\thead: chromosomes\tdeprel: amod\n",
      "id: 165\tword: chromosomes\thead id: 167\thead: detected\tdeprel: nsubj:pass\n",
      "id: 166\tword: was\thead id: 167\thead: detected\tdeprel: aux:pass\n",
      "id: 167\tword: detected\thead id: 162\thead: incorporated\tdeprel: advcl\n",
      "id: 168\tword: by\thead id: 169\thead: using\tdeprel: mark\n",
      "id: 169\tword: using\thead id: 167\thead: detected\tdeprel: advcl\n",
      "id: 170\tword: a\thead id: 171\thead: nuclease\tdeprel: det\n",
      "id: 171\tword: nuclease\thead id: 169\thead: using\tdeprel: obj\n",
      "id: 172\tword: and\thead id: 175\thead: antibody\tdeprel: cc\n",
      "id: 173\tword: brdurd\thead id: 175\thead: antibody\tdeprel: amod\n",
      "id: 174\tword: monoclonal\thead id: 175\thead: antibody\tdeprel: amod\n",
      "id: 175\tword: antibody\thead id: 169\thead: using\tdeprel: obj\n",
      "id: 176\tword: .\thead id: 184\thead: reduced\tdeprel: punct\n",
      "id: 177\tword: the\thead id: 178\thead: frequency\tdeprel: det\n",
      "id: 178\tword: frequency\thead id: 184\thead: reduced\tdeprel: nsubj:pass\n",
      "id: 179\tword: of\thead id: 182\thead: x\tdeprel: case\n",
      "id: 180\tword: the\thead id: 182\thead: x\tdeprel: det\n",
      "id: 181\tword: fragile\thead id: 182\thead: x\tdeprel: amod\n",
      "id: 182\tword: x\thead id: 178\thead: frequency\tdeprel: nmod\n",
      "id: 183\tword: was\thead id: 184\thead: reduced\tdeprel: aux:pass\n",
      "id: 184\tword: reduced\thead id: 167\thead: detected\tdeprel: conj\n",
      "id: 185\tword: by\thead id: 187\thead: treatment\tdeprel: case\n",
      "id: 186\tword: brdurd\thead id: 187\thead: treatment\tdeprel: amod\n",
      "id: 187\tword: treatment\thead id: 184\thead: reduced\tdeprel: obl\n",
      "id: 188\tword: .\thead id: 184\thead: reduced\tdeprel: punct\n",
      "id: 189\tword: the\thead id: 190\thead: degree\tdeprel: det\n",
      "id: 190\tword: degree\thead id: 195\thead: severe\tdeprel: nsubj\n",
      "id: 191\tword: of\thead id: 192\thead: reduction\tdeprel: case\n",
      "id: 192\tword: reduction\thead id: 190\thead: degree\tdeprel: nmod\n",
      "id: 193\tword: was\thead id: 195\thead: severe\tdeprel: cop\n",
      "id: 194\tword: more\thead id: 195\thead: severe\tdeprel: advmod\n",
      "id: 195\tword: severe\thead id: 184\thead: reduced\tdeprel: conj\n",
      "id: 196\tword: in\thead id: 200\thead: ml\tdeprel: case\n",
      "id: 197\tword: the\thead id: 200\thead: ml\tdeprel: det\n",
      "id: 198\tword: 20\thead id: 199\thead: micrograms\tdeprel: nummod\n",
      "id: 199\tword: micrograms\thead id: 200\thead: ml\tdeprel: compound\n",
      "id: 200\tword: ml\thead id: 195\thead: severe\tdeprel: obl\n",
      "id: 201\tword: than\thead id: 204\thead: 0\tdeprel: case\n",
      "id: 202\tword: in\thead id: 204\thead: 0\tdeprel: case\n",
      "id: 203\tword: the\thead id: 204\thead: 0\tdeprel: det\n",
      "id: 204\tword: 0\thead id: 209\thead: series\tdeprel: nummod\n",
      "id: 205\tword: .\thead id: 209\thead: series\tdeprel: punct\n",
      "id: 206\tword: 2\thead id: 209\thead: series\tdeprel: nummod\n",
      "id: 207\tword: microgram\thead id: 208\thead: ml\tdeprel: compound\n",
      "id: 208\tword: ml\thead id: 209\thead: series\tdeprel: compound\n",
      "id: 209\tword: series\thead id: 195\thead: severe\tdeprel: obl\n",
      "id: 210\tword: and\thead id: 213\thead: severe\tdeprel: cc\n",
      "id: 211\tword: was\thead id: 213\thead: severe\tdeprel: cop\n",
      "id: 212\tword: more\thead id: 213\thead: severe\tdeprel: advmod\n",
      "id: 213\tword: severe\thead id: 195\thead: severe\tdeprel: conj\n",
      "id: 214\tword: with\thead id: 221\thead: treatment\tdeprel: case\n",
      "id: 215\tword: late\thead id: 221\thead: treatment\tdeprel: nmod:poss\n",
      "id: 216\tword: s\thead id: 215\thead: late\tdeprel: case\n",
      "id: 217\tword: than\thead id: 221\thead: treatment\tdeprel: case\n",
      "id: 218\tword: with\thead id: 221\thead: treatment\tdeprel: case\n",
      "id: 219\tword: early\thead id: 221\thead: treatment\tdeprel: amod\n",
      "id: 220\tword: s\thead id: 219\thead: early\tdeprel: case\n",
      "id: 221\tword: treatment\thead id: 213\thead: severe\tdeprel: obl\n",
      "id: 222\tword: .\thead id: 213\thead: severe\tdeprel: punct\n",
      "id: 223\tword: of\thead id: 231\thead: chromosomes\tdeprel: case\n",
      "id: 224\tword: the\thead id: 231\thead: chromosomes\tdeprel: det\n",
      "id: 225\tword: early\thead id: 231\thead: chromosomes\tdeprel: amod\n",
      "id: 226\tword: and\thead id: 227\thead: late\tdeprel: cc\n",
      "id: 227\tword: late\thead id: 225\thead: early\tdeprel: conj\n",
      "id: 228\tword: replicating\thead id: 231\thead: chromosomes\tdeprel: amod\n",
      "id: 229\tword: fragile\thead id: 231\thead: chromosomes\tdeprel: amod\n",
      "id: 230\tword: x\thead id: 231\thead: chromosomes\tdeprel: compound\n",
      "id: 231\tword: chromosomes\thead id: 221\thead: treatment\tdeprel: nmod\n",
      "id: 232\tword: ,\thead id: 231\thead: chromosomes\tdeprel: punct\n",
      "id: 233\tword: those\thead id: 244\thead: reduced\tdeprel: nsubj:pass\n",
      "id: 234\tword: which\thead id: 237\thead: replicating\tdeprel: nsubj\n",
      "id: 235\tword: were\thead id: 237\thead: replicating\tdeprel: aux\n",
      "id: 236\tword: actively\thead id: 237\thead: replicating\tdeprel: advmod\n",
      "id: 237\tword: replicating\thead id: 233\thead: those\tdeprel: acl:relcl\n",
      "id: 238\tword: during\thead id: 241\thead: treatment\tdeprel: case\n",
      "id: 239\tword: a\thead id: 241\thead: treatment\tdeprel: det\n",
      "id: 240\tword: brdurd\thead id: 241\thead: treatment\tdeprel: amod\n",
      "id: 241\tword: treatment\thead id: 237\thead: replicating\tdeprel: obl\n",
      "id: 242\tword: were\thead id: 244\thead: reduced\tdeprel: aux:pass\n",
      "id: 243\tword: more\thead id: 244\thead: reduced\tdeprel: advmod\n",
      "id: 244\tword: reduced\thead id: 231\thead: chromosomes\tdeprel: acl:relcl\n",
      "id: 245\tword: than\thead id: 247\thead: others\tdeprel: case\n",
      "id: 246\tword: the\thead id: 247\thead: others\tdeprel: det\n",
      "id: 247\tword: others\thead id: 244\thead: reduced\tdeprel: obl\n",
      "id: 248\tword: .\thead id: 244\thead: reduced\tdeprel: punct\n",
      "id: 249\tword: thus\thead id: 268\thead: assumed\tdeprel: advmod\n",
      "id: 250\tword: ,\thead id: 268\thead: assumed\tdeprel: punct\n",
      "id: 251\tword: the\thead id: 253\thead: rate\tdeprel: det\n",
      "id: 252\tword: average\thead id: 253\thead: rate\tdeprel: amod\n",
      "id: 253\tword: rate\thead id: 268\thead: assumed\tdeprel: nsubj:pass\n",
      "id: 254\tword: of\thead id: 259\thead: treatment\tdeprel: case\n",
      "id: 255\tword: early\thead id: 259\thead: treatment\tdeprel: amod\n",
      "id: 256\tword: and\thead id: 257\thead: late\tdeprel: cc\n",
      "id: 257\tword: late\thead id: 255\thead: early\tdeprel: conj\n",
      "id: 258\tword: s\thead id: 255\thead: early\tdeprel: case\n",
      "id: 259\tword: treatment\thead id: 253\thead: rate\tdeprel: nmod\n",
      "id: 260\tword: with\thead id: 261\thead: 0\tdeprel: case\n",
      "id: 261\tword: 0\thead id: 259\thead: treatment\tdeprel: nmod\n",
      "id: 262\tword: .\thead id: 268\thead: assumed\tdeprel: punct\n",
      "id: 263\tword: 2\thead id: 266\thead: ml\tdeprel: nummod\n",
      "id: 264\tword: microgram\thead id: 266\thead: ml\tdeprel: compound\n",
      "id: 265\tword: brdurd\thead id: 266\thead: ml\tdeprel: compound\n",
      "id: 266\tword: ml\thead id: 268\thead: assumed\tdeprel: nsubj:pass\n",
      "id: 267\tword: was\thead id: 268\thead: assumed\tdeprel: aux:pass\n",
      "id: 268\tword: assumed\thead id: 244\thead: reduced\tdeprel: conj\n",
      "id: 269\tword: to\thead id: 273\thead: reflection\tdeprel: mark\n",
      "id: 270\tword: be\thead id: 273\thead: reflection\tdeprel: cop\n",
      "id: 271\tword: the\thead id: 273\thead: reflection\tdeprel: det\n",
      "id: 272\tword: closest\thead id: 273\thead: reflection\tdeprel: amod\n",
      "id: 273\tword: reflection\thead id: 268\thead: assumed\tdeprel: xcomp\n",
      "id: 274\tword: of\thead id: 276\thead: situation\tdeprel: case\n",
      "id: 275\tword: the\thead id: 276\thead: situation\tdeprel: det\n",
      "id: 276\tword: situation\thead id: 273\thead: reflection\tdeprel: nmod\n",
      "id: 277\tword: in\thead id: 278\thead: vivo\tdeprel: case\n",
      "id: 278\tword: vivo\thead id: 276\thead: situation\tdeprel: nmod\n",
      "id: 279\tword: .\thead id: 281\thead: was\tdeprel: punct\n",
      "id: 280\tword: there\thead id: 281\thead: was\tdeprel: expl\n",
      "id: 281\tword: was\thead id: 268\thead: assumed\tdeprel: parataxis\n",
      "id: 282\tword: no\thead id: 283\thead: correlation\tdeprel: det\n",
      "id: 283\tword: correlation\thead id: 281\thead: was\tdeprel: nsubj\n",
      "id: 284\tword: between\thead id: 287\thead: rate\tdeprel: case\n",
      "id: 285\tword: the\thead id: 287\thead: rate\tdeprel: det\n",
      "id: 286\tword: average\thead id: 287\thead: rate\tdeprel: amod\n",
      "id: 287\tword: rate\thead id: 283\thead: correlation\tdeprel: nmod\n",
      "id: 288\tword: of\thead id: 291\thead: replicating\tdeprel: case\n",
      "id: 289\tword: the\thead id: 291\thead: replicating\tdeprel: det\n",
      "id: 290\tword: early\thead id: 291\thead: replicating\tdeprel: amod\n",
      "id: 291\tword: replicating\thead id: 287\thead: rate\tdeprel: nmod\n",
      "id: 292\tword: ,\thead id: 295\thead: x\tdeprel: punct\n",
      "id: 293\tword: active\thead id: 295\thead: x\tdeprel: amod\n",
      "id: 294\tword: fragile\thead id: 295\thead: x\tdeprel: amod\n",
      "id: 295\tword: x\thead id: 281\thead: was\tdeprel: nsubj\n",
      "id: 296\tword: and\thead id: 298\thead: intelligence\tdeprel: cc\n",
      "id: 297\tword: the\thead id: 298\thead: intelligence\tdeprel: det\n",
      "id: 298\tword: intelligence\thead id: 303\thead: studied\tdeprel: nsubj\n",
      "id: 299\tword: of\thead id: 302\thead: carriers\tdeprel: case\n",
      "id: 300\tword: the\thead id: 302\thead: carriers\tdeprel: det\n",
      "id: 301\tword: heterozygous\thead id: 302\thead: carriers\tdeprel: amod\n",
      "id: 302\tword: carriers\thead id: 298\thead: intelligence\tdeprel: nmod\n",
      "id: 303\tword: studied\thead id: 281\thead: was\tdeprel: advcl\n",
      "id: 304\tword: .\thead id: 26\thead: studied\tdeprel: punct\n"
     ]
    }
   ],
   "source": [
    "print(*[f'id: {word.id}\\tword: {word.text}\\thead id: {word.head}\\thead: {sent.words[word.head-1].text if word.head > 0 else \"root\"}\\tdeprel: {word.deprel}' for sent in doc.sentences for word in sent.words], sep='\\n')"
   ]
  },
  {
   "cell_type": "code",
   "execution_count": null,
   "metadata": {},
   "outputs": [],
   "source": [
    "anti_rel = ['punct','cop','case','det','root','cc','mark','aux','advmod','fixed','nummod','aux:pass']"
   ]
  },
  {
   "cell_type": "code",
   "execution_count": 5,
   "metadata": {},
   "outputs": [],
   "source": [
    "doc = nlp(\"Superficial cultures in neonatal sepsis evaluations. Impact on antibiotic decision making. The authors performed a retrospective analysis of neonatal superficial cultures and their effect on antimicrobial decision making during a nine-month period at Nashville General Hospital. They obtained and reviewed charts of infants (n = 66) having paired superficial (skin and/or gastric aspirate) and deep (blood and cerebrospinal fluid) cultures for the evaluation of early-onset sepsis. Superficial cultures were positive for pathogens (any streptococcus or enteric gram-negative) in 15% (10/66) of cases. Antimicrobial decision making was affected in only one of these cases, and in a seemingly inappropriate manner. In summary, there was no evidence or review that superficial cultures used in sepsis evaluation influenced physician antimicrobial decision making; in one case they may have led to unnecessary antibiotic exposure.\")"
   ]
  },
  {
   "cell_type": "code",
   "execution_count": null,
   "metadata": {},
   "outputs": [],
   "source": []
  },
  {
   "cell_type": "code",
   "execution_count": 17,
   "metadata": {},
   "outputs": [],
   "source": [
    "doc = nlp('in perrys good and his is an interesting character , but \" serving sara \" hasn\\'t much more to serve than silly fluff . nor is it a romantic comedy .')"
   ]
  },
  {
   "cell_type": "code",
   "execution_count": 18,
   "metadata": {},
   "outputs": [
    {
     "name": "stdout",
     "output_type": "stream",
     "text": [
      "id: 1\tword: in\thead id: 2\thead: u\tdeprel: case\n",
      "id: 2\tword: u\thead id: 6\thead: good\tdeprel: obl\n",
      "id: 3\tword: .\thead id: 6\thead: good\tdeprel: punct\n",
      "id: 4\tword: s\thead id: 6\thead: good\tdeprel: cop\n",
      "id: 5\tword: perrys\thead id: 6\thead: good\tdeprel: nsubj\n",
      "id: 6\tword: good\thead id: 0\thead: root\tdeprel: root\n",
      "id: 7\tword: and\thead id: 12\thead: character\tdeprel: cc\n",
      "id: 8\tword: his\thead id: 12\thead: character\tdeprel: nsubj\n",
      "id: 9\tword: is\thead id: 12\thead: character\tdeprel: cop\n",
      "id: 10\tword: an\thead id: 12\thead: character\tdeprel: det\n",
      "id: 11\tword: interesting\thead id: 12\thead: character\tdeprel: amod\n",
      "id: 12\tword: character\thead id: 6\thead: good\tdeprel: conj\n",
      "id: 13\tword: ,\thead id: 22\thead: more\tdeprel: punct\n",
      "id: 14\tword: but\thead id: 22\thead: more\tdeprel: cc\n",
      "id: 15\tword: \"\thead id: 16\thead: serving\tdeprel: punct\n",
      "id: 16\tword: serving\thead id: 22\thead: more\tdeprel: csubj\n",
      "id: 17\tword: sara\thead id: 16\thead: serving\tdeprel: obj\n",
      "id: 18\tword: \"\thead id: 16\thead: serving\tdeprel: punct\n",
      "id: 19\tword: has\thead id: 22\thead: more\tdeprel: aux\n",
      "id: 20\tword: n't\thead id: 22\thead: more\tdeprel: advmod\n",
      "id: 21\tword: much\thead id: 22\thead: more\tdeprel: advmod\n",
      "id: 22\tword: more\thead id: 6\thead: good\tdeprel: conj\n",
      "id: 23\tword: to\thead id: 24\thead: serve\tdeprel: mark\n",
      "id: 24\tword: serve\thead id: 22\thead: more\tdeprel: advcl\n",
      "id: 25\tword: than\thead id: 27\thead: fluff\tdeprel: case\n",
      "id: 26\tword: silly\thead id: 27\thead: fluff\tdeprel: amod\n",
      "id: 27\tword: fluff\thead id: 24\thead: serve\tdeprel: obl\n",
      "id: 28\tword: .\thead id: 6\thead: good\tdeprel: punct\n",
      "id: 1\tword: nor\thead id: 6\thead: comedy\tdeprel: cc\n",
      "id: 2\tword: is\thead id: 6\thead: comedy\tdeprel: cop\n",
      "id: 3\tword: it\thead id: 6\thead: comedy\tdeprel: nsubj\n",
      "id: 4\tword: a\thead id: 6\thead: comedy\tdeprel: det\n",
      "id: 5\tword: romantic\thead id: 6\thead: comedy\tdeprel: amod\n",
      "id: 6\tword: comedy\thead id: 0\thead: root\tdeprel: root\n",
      "id: 7\tword: .\thead id: 6\thead: comedy\tdeprel: punct\n"
     ]
    }
   ],
   "source": [
    "print(*[f'id: {word.id}\\tword: {word.text}\\thead id: {word.head}\\thead: {sent.words[word.head-1].text if word.head > 0 else \"root\"}\\tdeprel: {word.deprel}' for sent in doc.sentences for word in sent.words], sep='\\n')"
   ]
  },
  {
   "cell_type": "code",
   "execution_count": 5,
   "metadata": {},
   "outputs": [
    {
     "name": "stdout",
     "output_type": "stream",
     "text": [
      "('Impact', 0, 'root')\n",
      "('on', 5, 'case')\n",
      "('antibiotic', 4, 'amod')\n",
      "('decision', 5, 'compound')\n",
      "('making', 1, 'nmod')\n",
      "('.', 1, 'punct')\n"
     ]
    }
   ],
   "source": [
    "doc.sentences[1].print_dependencies()"
   ]
  },
  {
   "cell_type": "code",
   "execution_count": null,
   "metadata": {},
   "outputs": [],
   "source": []
  },
  {
   "cell_type": "code",
   "execution_count": 1,
   "metadata": {},
   "outputs": [],
   "source": [
    "import nltk\n",
    "from nltk.corpus import stopwords\n",
    "from collections import Counter\n",
    "import re\n",
    "import joblib\n",
    "import numpy as np\n",
    "from tqdm import tqdm\n",
    "import itertools\n",
    "import scipy.sparse as sp"
   ]
  },
  {
   "cell_type": "code",
   "execution_count": 2,
   "metadata": {},
   "outputs": [],
   "source": [
    "# 数据集\n",
    "dataset = \"ohsumed\""
   ]
  },
  {
   "cell_type": "code",
   "execution_count": 3,
   "metadata": {},
   "outputs": [],
   "source": [
    "# param\n",
    "stop_words = set(stopwords.words('english'))\n",
    "least_freq = 5\n",
    "if dataset == \"mr\" or \"SST\" in dataset:\n",
    "    stop_words = set()\n",
    "    least_freq = 0"
   ]
  },
  {
   "cell_type": "code",
   "execution_count": 4,
   "metadata": {},
   "outputs": [],
   "source": [
    "split = joblib.load(f\"nlp_temp/{dataset}.split.pkl\")\n",
    "edge = joblib.load(f\"nlp_temp/{dataset}.edge.pkl\")\n",
    "pos= joblib.load(f\"nlp_temp/{dataset}.pos.pkl\")"
   ]
  },
  {
   "cell_type": "code",
   "execution_count": 5,
   "metadata": {},
   "outputs": [],
   "source": [
    "word2count = Counter([w for t in split for w in t])\n",
    "word_count = [[w, c] for w, c in word2count.items() if c >= least_freq and w not in stop_words]\n",
    "word2index = {w: i for i, (w, c) in enumerate(word_count)}"
   ]
  },
  {
   "cell_type": "code",
   "execution_count": 6,
   "metadata": {},
   "outputs": [
    {
     "data": {
      "text/plain": [
       "153"
      ]
     },
     "execution_count": 6,
     "metadata": {},
     "output_type": "execute_result"
    }
   ],
   "source": [
    "len(split[0])"
   ]
  },
  {
   "cell_type": "code",
   "execution_count": 7,
   "metadata": {},
   "outputs": [
    {
     "data": {
      "text/plain": [
       "153"
      ]
     },
     "execution_count": 7,
     "metadata": {},
     "output_type": "execute_result"
    }
   ],
   "source": [
    "len(edge[0])"
   ]
  },
  {
   "cell_type": "code",
   "execution_count": 8,
   "metadata": {},
   "outputs": [
    {
     "data": {
      "text/plain": [
       "[(144, 141),\n",
       " (145, 148),\n",
       " (146, 148),\n",
       " (147, 148),\n",
       " (148, 137),\n",
       " (149, 152),\n",
       " (150, 152),\n",
       " (151, 152),\n",
       " (152, 148),\n",
       " (153, 2)]"
      ]
     },
     "execution_count": 8,
     "metadata": {},
     "output_type": "execute_result"
    }
   ],
   "source": [
    "edge[0][-10:]"
   ]
  },
  {
   "cell_type": "code",
   "execution_count": 16,
   "metadata": {},
   "outputs": [],
   "source": [
    "def words_split_pos_edge(split, pos, edge, word2index):\n",
    "    split_list = []\n",
    "    pos_list = []\n",
    "    edge_list = []\n",
    "    for t, p, ed in tqdm(zip(split, pos, edge)):\n",
    "        temp = []\n",
    "        temp_pos = []\n",
    "        k = -1\n",
    "        for i in range(0, len(t)):\n",
    "            if t[i] in word2index:\n",
    "                temp.append(t[i])\n",
    "                temp_pos.append(p[i])\n",
    "            else:\n",
    "                temp_edge = []\n",
    "                k += 1\n",
    "                for e in ed:\n",
    "                    e = list(e)\n",
    "                    if e[0] == i+1-k or e[1] == i+1-k:\n",
    "                        continue\n",
    "                    if e[0] > i+1-k:\n",
    "                        e[0] = e[0] - 1\n",
    "                    if e[1] > i+1-k:\n",
    "                        e[1] = e[1] - 1\n",
    "                    temp_edge.append(tuple(e))\n",
    "                ed = temp_edge\n",
    "        split_list.append(temp)\n",
    "        pos_list.append(temp_pos)\n",
    "        edge_list.append(ed)\n",
    "    return split_list, pos_list, edge_list"
   ]
  },
  {
   "cell_type": "code",
   "execution_count": 17,
   "metadata": {},
   "outputs": [
    {
     "name": "stderr",
     "output_type": "stream",
     "text": [
      "7400it [01:16, 97.12it/s] \n"
     ]
    }
   ],
   "source": [
    "s, p, e = words_split_pos_edge(split, pos, edge, word2index)"
   ]
  },
  {
   "cell_type": "code",
   "execution_count": 28,
   "metadata": {},
   "outputs": [
    {
     "data": {
      "text/plain": [
       "[(1, 2),\n",
       " (2, 0),\n",
       " (3, 5),\n",
       " (4, 5),\n",
       " (5, 2),\n",
       " (6, 2),\n",
       " (7, 2),\n",
       " (8, 9),\n",
       " (9, 7),\n",
       " (10, 7),\n",
       " (11, 13),\n",
       " (12, 13),\n",
       " (13, 2),\n",
       " (14, 15),\n",
       " (15, 13),\n",
       " (16, 18),\n",
       " (17, 18),\n",
       " (18, 15),\n",
       " (19, 15),\n",
       " (20, 21),\n",
       " (21, 19),\n",
       " (22, 19),\n",
       " (23, 24),\n",
       " (24, 25),\n",
       " (25, 22),\n",
       " (26, 27),\n",
       " (27, 25),\n",
       " (28, 2),\n",
       " (29, 13),\n",
       " (30, 29),\n",
       " (31, 29),\n",
       " (32, 31),\n",
       " (33, 34),\n",
       " (34, 32),\n",
       " (35, 34),\n",
       " (36, 34),\n",
       " (37, 31),\n",
       " (38, 37),\n",
       " (39, 40),\n",
       " (40, 38),\n",
       " (41, 42),\n",
       " (42, 40),\n",
       " (43, 42),\n",
       " (44, 50),\n",
       " (45, 46),\n",
       " (46, 50),\n",
       " (47, 48),\n",
       " (48, 46),\n",
       " (49, 48),\n",
       " (50, 58),\n",
       " (51, 50),\n",
       " (52, 54),\n",
       " (53, 54),\n",
       " (54, 51),\n",
       " (55, 58),\n",
       " (56, 57),\n",
       " (57, 58),\n",
       " (58, 13),\n",
       " (59, 58),\n",
       " (60, 61),\n",
       " (61, 59),\n",
       " (62, 63),\n",
       " (63, 64),\n",
       " (64, 61),\n",
       " (65, 61),\n",
       " (66, 61),\n",
       " (67, 69),\n",
       " (68, 69),\n",
       " (69, 66),\n",
       " (70, 69),\n",
       " (71, 66),\n",
       " (72, 76),\n",
       " (73, 74),\n",
       " (74, 75),\n",
       " (75, 76),\n",
       " (76, 59),\n",
       " (77, 76),\n",
       " (78, 77),\n",
       " (79, 82),\n",
       " (80, 81),\n",
       " (81, 82),\n",
       " (82, 77),\n",
       " (84, 82),\n",
       " (87, 86),\n",
       " (88, 89),\n",
       " (89, 93),\n",
       " (90, 89),\n",
       " (91, 92),\n",
       " (92, 90),\n",
       " (94, 96),\n",
       " (95, 96),\n",
       " (96, 93),\n",
       " (97, 93),\n",
       " (98, 99),\n",
       " (99, 97),\n",
       " (100, 101),\n",
       " (101, 93),\n",
       " (102, 104),\n",
       " (103, 104),\n",
       " (104, 101),\n",
       " (105, 2)]"
      ]
     },
     "execution_count": 28,
     "metadata": {},
     "output_type": "execute_result"
    }
   ],
   "source": [
    "e[0]"
   ]
  },
  {
   "cell_type": "code",
   "execution_count": null,
   "metadata": {},
   "outputs": [],
   "source": []
  },
  {
   "cell_type": "code",
   "execution_count": null,
   "metadata": {},
   "outputs": [],
   "source": []
  },
  {
   "cell_type": "code",
   "execution_count": 8,
   "metadata": {},
   "outputs": [],
   "source": [
    "from stanfordcorenlp import StanfordCoreNLP"
   ]
  },
  {
   "cell_type": "code",
   "execution_count": 9,
   "metadata": {},
   "outputs": [],
   "source": [
    "nlp = StanfordCoreNLP('.\\stanford-corenlp-4.2.0')"
   ]
  },
  {
   "cell_type": "code",
   "execution_count": 13,
   "metadata": {},
   "outputs": [],
   "source": [
    "text = \"'moore is like a progressive bull in a china shop , a provocateur crashing into ideas and special interest groups as he slaps together his own brand of liberalism '\""
   ]
  },
  {
   "cell_type": "code",
   "execution_count": 15,
   "metadata": {},
   "outputs": [
    {
     "data": {
      "text/plain": [
       "[('ROOT', 0, 6),\n",
       " ('nsubj', 6, 1),\n",
       " ('cop', 6, 2),\n",
       " ('case', 6, 3),\n",
       " ('det', 6, 4),\n",
       " ('amod', 6, 5),\n",
       " ('case', 10, 7),\n",
       " ('det', 10, 8),\n",
       " ('compound', 10, 9),\n",
       " ('nmod', 6, 10),\n",
       " ('punct', 10, 11),\n",
       " ('det', 13, 12),\n",
       " ('nsubj', 14, 13),\n",
       " ('dep', 10, 14),\n",
       " ('case', 16, 15),\n",
       " ('obl', 14, 16),\n",
       " ('cc', 20, 17),\n",
       " ('amod', 20, 18),\n",
       " ('compound', 20, 19),\n",
       " ('conj', 16, 20),\n",
       " ('mark', 23, 21),\n",
       " ('nsubj', 23, 22),\n",
       " ('advcl', 14, 23),\n",
       " ('advmod', 23, 24),\n",
       " ('nmod:poss', 27, 25),\n",
       " ('amod', 27, 26),\n",
       " ('obj', 23, 27),\n",
       " ('case', 29, 28),\n",
       " ('nmod', 27, 29)]"
      ]
     },
     "execution_count": 15,
     "metadata": {},
     "output_type": "execute_result"
    }
   ],
   "source": [
    "nlp.dependency_parse(text)"
   ]
  },
  {
   "cell_type": "code",
   "execution_count": null,
   "metadata": {},
   "outputs": [],
   "source": []
  },
  {
   "cell_type": "code",
   "execution_count": null,
   "metadata": {},
   "outputs": [],
   "source": []
  },
  {
   "cell_type": "code",
   "execution_count": 5,
   "metadata": {},
   "outputs": [],
   "source": [
    "from nltk.corpus import stopwords"
   ]
  },
  {
   "cell_type": "code",
   "execution_count": 6,
   "metadata": {},
   "outputs": [
    {
     "data": {
      "text/plain": [
       "['i',\n",
       " 'me',\n",
       " 'my',\n",
       " 'myself',\n",
       " 'we',\n",
       " 'our',\n",
       " 'ours',\n",
       " 'ourselves',\n",
       " 'you',\n",
       " \"you're\",\n",
       " \"you've\",\n",
       " \"you'll\",\n",
       " \"you'd\",\n",
       " 'your',\n",
       " 'yours',\n",
       " 'yourself',\n",
       " 'yourselves',\n",
       " 'he',\n",
       " 'him',\n",
       " 'his',\n",
       " 'himself',\n",
       " 'she',\n",
       " \"she's\",\n",
       " 'her',\n",
       " 'hers',\n",
       " 'herself',\n",
       " 'it',\n",
       " \"it's\",\n",
       " 'its',\n",
       " 'itself',\n",
       " 'they',\n",
       " 'them',\n",
       " 'their',\n",
       " 'theirs',\n",
       " 'themselves',\n",
       " 'what',\n",
       " 'which',\n",
       " 'who',\n",
       " 'whom',\n",
       " 'this',\n",
       " 'that',\n",
       " \"that'll\",\n",
       " 'these',\n",
       " 'those',\n",
       " 'am',\n",
       " 'is',\n",
       " 'are',\n",
       " 'was',\n",
       " 'were',\n",
       " 'be',\n",
       " 'been',\n",
       " 'being',\n",
       " 'have',\n",
       " 'has',\n",
       " 'had',\n",
       " 'having',\n",
       " 'do',\n",
       " 'does',\n",
       " 'did',\n",
       " 'doing',\n",
       " 'a',\n",
       " 'an',\n",
       " 'the',\n",
       " 'and',\n",
       " 'but',\n",
       " 'if',\n",
       " 'or',\n",
       " 'because',\n",
       " 'as',\n",
       " 'until',\n",
       " 'while',\n",
       " 'of',\n",
       " 'at',\n",
       " 'by',\n",
       " 'for',\n",
       " 'with',\n",
       " 'about',\n",
       " 'against',\n",
       " 'between',\n",
       " 'into',\n",
       " 'through',\n",
       " 'during',\n",
       " 'before',\n",
       " 'after',\n",
       " 'above',\n",
       " 'below',\n",
       " 'to',\n",
       " 'from',\n",
       " 'up',\n",
       " 'down',\n",
       " 'in',\n",
       " 'out',\n",
       " 'on',\n",
       " 'off',\n",
       " 'over',\n",
       " 'under',\n",
       " 'again',\n",
       " 'further',\n",
       " 'then',\n",
       " 'once',\n",
       " 'here',\n",
       " 'there',\n",
       " 'when',\n",
       " 'where',\n",
       " 'why',\n",
       " 'how',\n",
       " 'all',\n",
       " 'any',\n",
       " 'both',\n",
       " 'each',\n",
       " 'few',\n",
       " 'more',\n",
       " 'most',\n",
       " 'other',\n",
       " 'some',\n",
       " 'such',\n",
       " 'no',\n",
       " 'nor',\n",
       " 'not',\n",
       " 'only',\n",
       " 'own',\n",
       " 'same',\n",
       " 'so',\n",
       " 'than',\n",
       " 'too',\n",
       " 'very',\n",
       " 's',\n",
       " 't',\n",
       " 'can',\n",
       " 'will',\n",
       " 'just',\n",
       " 'don',\n",
       " \"don't\",\n",
       " 'should',\n",
       " \"should've\",\n",
       " 'now',\n",
       " 'd',\n",
       " 'll',\n",
       " 'm',\n",
       " 'o',\n",
       " 're',\n",
       " 've',\n",
       " 'y',\n",
       " 'ain',\n",
       " 'aren',\n",
       " \"aren't\",\n",
       " 'couldn',\n",
       " \"couldn't\",\n",
       " 'didn',\n",
       " \"didn't\",\n",
       " 'doesn',\n",
       " \"doesn't\",\n",
       " 'hadn',\n",
       " \"hadn't\",\n",
       " 'hasn',\n",
       " \"hasn't\",\n",
       " 'haven',\n",
       " \"haven't\",\n",
       " 'isn',\n",
       " \"isn't\",\n",
       " 'ma',\n",
       " 'mightn',\n",
       " \"mightn't\",\n",
       " 'mustn',\n",
       " \"mustn't\",\n",
       " 'needn',\n",
       " \"needn't\",\n",
       " 'shan',\n",
       " \"shan't\",\n",
       " 'shouldn',\n",
       " \"shouldn't\",\n",
       " 'wasn',\n",
       " \"wasn't\",\n",
       " 'weren',\n",
       " \"weren't\",\n",
       " 'won',\n",
       " \"won't\",\n",
       " 'wouldn',\n",
       " \"wouldn't\"]"
      ]
     },
     "execution_count": 6,
     "metadata": {},
     "output_type": "execute_result"
    }
   ],
   "source": [
    "stopwords.words('english')"
   ]
  },
  {
   "cell_type": "code",
   "execution_count": null,
   "metadata": {},
   "outputs": [],
   "source": []
  },
  {
   "cell_type": "code",
   "execution_count": null,
   "metadata": {},
   "outputs": [],
   "source": []
  },
  {
   "cell_type": "code",
   "execution_count": null,
   "metadata": {},
   "outputs": [],
   "source": []
  },
  {
   "cell_type": "code",
   "execution_count": null,
   "metadata": {},
   "outputs": [],
   "source": []
  },
  {
   "cell_type": "code",
   "execution_count": null,
   "metadata": {},
   "outputs": [],
   "source": []
  },
  {
   "cell_type": "code",
   "execution_count": 148,
   "metadata": {},
   "outputs": [],
   "source": [
    "import torch"
   ]
  },
  {
   "cell_type": "code",
   "execution_count": 149,
   "metadata": {},
   "outputs": [],
   "source": [
    "a = torch.tensor([[1,2,3,4,5],[1,2,3,4,5]])"
   ]
  },
  {
   "cell_type": "code",
   "execution_count": 152,
   "metadata": {},
   "outputs": [
    {
     "data": {
      "text/plain": [
       "torch.Size([2, 3, 5])"
      ]
     },
     "execution_count": 152,
     "metadata": {},
     "output_type": "execute_result"
    }
   ],
   "source": [
    "torch.stack((a, a, a), dim=1).shape"
   ]
  },
  {
   "cell_type": "code",
   "execution_count": 151,
   "metadata": {},
   "outputs": [
    {
     "data": {
      "text/plain": [
       "torch.Size([2, 5])"
      ]
     },
     "execution_count": 151,
     "metadata": {},
     "output_type": "execute_result"
    }
   ],
   "source": [
    "a.shape"
   ]
  },
  {
   "cell_type": "code",
   "execution_count": 146,
   "metadata": {},
   "outputs": [
    {
     "data": {
      "text/plain": [
       "tensor([[[1, 2, 3, 4, 5],\n",
       "         [1, 2, 3, 4, 5]]])"
      ]
     },
     "execution_count": 146,
     "metadata": {},
     "output_type": "execute_result"
    }
   ],
   "source": [
    "a.unsqueeze(0)"
   ]
  },
  {
   "cell_type": "code",
   "execution_count": 147,
   "metadata": {},
   "outputs": [
    {
     "data": {
      "text/plain": [
       "torch.Size([2, 5])"
      ]
     },
     "execution_count": 147,
     "metadata": {},
     "output_type": "execute_result"
    }
   ],
   "source": [
    "a.shape"
   ]
  },
  {
   "cell_type": "code",
   "execution_count": 128,
   "metadata": {},
   "outputs": [],
   "source": [
    "b = torch.nn.Parameter(torch.Tensor([1]), requires_grad=True)"
   ]
  },
  {
   "cell_type": "code",
   "execution_count": 129,
   "metadata": {},
   "outputs": [
    {
     "data": {
      "text/plain": [
       "Parameter containing:\n",
       "tensor([1.], requires_grad=True)"
      ]
     },
     "execution_count": 129,
     "metadata": {},
     "output_type": "execute_result"
    }
   ],
   "source": [
    "b"
   ]
  },
  {
   "cell_type": "code",
   "execution_count": 130,
   "metadata": {},
   "outputs": [
    {
     "data": {
      "text/plain": [
       "tensor([[0., 0., 0., 0., 0.],\n",
       "        [0., 0., 0., 0., 0.]], grad_fn=<MulBackward0>)"
      ]
     },
     "execution_count": 130,
     "metadata": {},
     "output_type": "execute_result"
    }
   ],
   "source": [
    "(1 - b) * a"
   ]
  },
  {
   "cell_type": "code",
   "execution_count": 131,
   "metadata": {},
   "outputs": [
    {
     "data": {
      "text/plain": [
       "Parameter containing:\n",
       "tensor([1.], requires_grad=True)"
      ]
     },
     "execution_count": 131,
     "metadata": {},
     "output_type": "execute_result"
    }
   ],
   "source": [
    "b"
   ]
  },
  {
   "cell_type": "code",
   "execution_count": 132,
   "metadata": {},
   "outputs": [
    {
     "data": {
      "text/plain": [
       "tensor([[1., 2., 3., 4., 5.],\n",
       "        [1., 2., 3., 4., 5.]], grad_fn=<MulBackward0>)"
      ]
     },
     "execution_count": 132,
     "metadata": {},
     "output_type": "execute_result"
    }
   ],
   "source": [
    "a*b"
   ]
  },
  {
   "cell_type": "code",
   "execution_count": null,
   "metadata": {},
   "outputs": [],
   "source": []
  },
  {
   "cell_type": "code",
   "execution_count": null,
   "metadata": {},
   "outputs": [],
   "source": []
  }
 ],
 "metadata": {
  "kernelspec": {
   "display_name": "Python 3",
   "language": "python",
   "name": "python3"
  },
  "language_info": {
   "codemirror_mode": {
    "name": "ipython",
    "version": 3
   },
   "file_extension": ".py",
   "mimetype": "text/x-python",
   "name": "python",
   "nbconvert_exporter": "python",
   "pygments_lexer": "ipython3",
   "version": "3.7.3"
  }
 },
 "nbformat": 4,
 "nbformat_minor": 4
}
